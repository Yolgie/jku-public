{
 "cells": [
  {
   "cell_type": "markdown",
   "metadata": {},
   "source": [
    "In this empiric test we look at 'runs' in the random sequence. A run is a strict strictly monotonically increasing subsequence. \n",
    "\n",
    "    sequence                 sub sequences            runs           run counts\n",
    "    1,2,9,8,5,3,6,7,0,4  ->  1,2,9|8|5|3,6,7|0,4  ->  3,1,1,3,2  ->  2,1,2,0,0,0\n",
    "    \n",
    "Since adjacent run counts are not independent, we can not directly apply a chi-square test, but must use a special statistic\n",
    "\n",
    "    V = 1/(n-6) \\sum_{i=1}^{6}\\sum_{j=1}^{6} (count[i] - n*B[i]) (count[j] - n*B[j]) a[i][j]\n",
    "\n",
    "With special matrices A and B, that he explains how to derrive.\n",
    "\n",
    "The statistic V should have a chi-square distribution with 6 degrees of freedom.\n",
    "    \n",
    "    0.90 -> 10.645\n",
    "    0.95 -> 12.59\n",
    "\n",
    "## Code"
   ]
  },
  {
   "cell_type": "code",
   "execution_count": 115,
   "metadata": {},
   "outputs": [],
   "source": [
    "import itertools\n",
    "from collections import Counter\n",
    "import random\n",
    "\n",
    "def getPseudoRandomSequence(x0, k, m):\n",
    "    last = x0\n",
    "    while True:\n",
    "        last = k * last % m\n",
    "        yield last/m\n",
    "def getFinitePseudorandomSequence(x0, k, m, n):\n",
    "    return itertools.islice(getPseudoRandomSequence(x0, k, m),n)\n",
    "\n",
    "def getPythonRandom():\n",
    "    while True:\n",
    "        yield random.random()\n",
    "    \n",
    "def getOsRandom():\n",
    "    os_random = random.SystemRandom()\n",
    "    while True:\n",
    "        yield os_random.random()"
   ]
  },
  {
   "cell_type": "code",
   "execution_count": 3,
   "metadata": {
    "scrolled": true
   },
   "outputs": [],
   "source": [
    "def getRuns(sequence, condition):\n",
    "    currentRun = []\n",
    "    for element in sequence:\n",
    "        if not currentRun or condition(currentRun[-1], element):\n",
    "            currentRun.append(element)\n",
    "        else:\n",
    "            yield currentRun\n",
    "            currentRun = [element]\n",
    "    yield currentRun\n",
    "def getIncreasingRuns(sequence):\n",
    "    return getRuns(sequence, lambda a,b: a<b)\n",
    "def getDecreasingRuns(sequence):\n",
    "    return getRuns(sequence, lambda a,b: a>b)\n",
    "\n",
    "def getRunLenghts(runs):\n",
    "    for element in runs:\n",
    "        yield len(element)\n",
    "def getIncreasingRunLenghts(sequence):\n",
    "    return getRunLenghts(getIncreasingRuns(sequence))\n",
    "def getDecreasingRunLenghts(sequence):\n",
    "    return getRunLenghts(getDecreasingRuns(sequence))\n",
    "\n",
    "def getRunLenghtCounts(runLenghts):\n",
    "    counter = dict(Counter(runLenghts))\n",
    "    counts = [counter[key] for key in sorted(counter.keys())]\n",
    "    counts[5:] = [sum(counts[5:])]\n",
    "    return counts\n",
    "def getIncreasingRunLenghtCounts(sequence):\n",
    "    return getRunLenghtCounts(getRunLenghts(getIncreasingRuns(sequence)))\n",
    "def getDecreasingRunLenghtCounts(sequence):\n",
    "    return getRunLenghtCounts(getRunLenghts(getDecreasingRuns(sequence)))"
   ]
  },
  {
   "cell_type": "code",
   "execution_count": 4,
   "metadata": {},
   "outputs": [],
   "source": [
    "A = [[  4529.4,  9044.9, 13568.0,  18091.0,  22615.0,  27892.0], \n",
    "     [  9044.9, 18097.0, 27139.0,  36187.0,  45234.0,  55789.0],\n",
    "     [ 13568.0, 27139.0, 40721.0,  54281.0,  67852.0,  83685.0],\n",
    "     [ 18091.0, 36187.0, 54281.0,  72414.0,  90470.0, 111580.0],\n",
    "     [ 22615.0, 45234.0, 67852.0,  90470.0, 113262.0, 139476.0],\n",
    "     [ 27892.0, 55789.0, 83685.0, 111580.0, 139476.0, 172860.0]]\n",
    "B = [1/6, 5/24, 11/120, 19/720, 29/5040, 1/840]"
   ]
  },
  {
   "cell_type": "code",
   "execution_count": 5,
   "metadata": {},
   "outputs": [],
   "source": [
    "def getStatisticV(count, n):\n",
    "    return 1/(n-6) * sum([(count[i]-n*B[i])*(count[j]-n*B[j])*A[i][j] for i in range(0,6) for j in range(0,6)])"
   ]
  },
  {
   "cell_type": "code",
   "execution_count": 6,
   "metadata": {},
   "outputs": [
    {
     "name": "stdout",
     "output_type": "stream",
     "text": [
      "11.75899989477215\n",
      "7.51414663360855\n"
     ]
    }
   ],
   "source": [
    "# sequence = [1,2,9,8,5,3,6,7,0,4]\n",
    "# sequence = [1,3,8,7,5,2,6,7,1,6]\n",
    "x0 = 1001\n",
    "k = 8192\n",
    "m = 67101323\n",
    "n = 10000\n",
    "sequence = list(getFinitePseudorandomSequence(x0, k, m, n))\n",
    "print(getStatisticV(getIncreasingRunLenghtCounts(sequence), n))\n",
    "print(getStatisticV(getDecreasingRunLenghtCounts(sequence), n))"
   ]
  },
  {
   "cell_type": "markdown",
   "metadata": {},
   "source": [
    "## Test Runs\n",
    "\n",
    "Values for generated sequences taken from:\n",
    "```\n",
    "The Runs-Up and Runs-Down Tests By R. G. T. GRAFTON\n",
    "Journal of the Royal Statistical Society. Series C (Applied Statistics), Vol. 30, No. 1 (1981), pp. 81-85```"
   ]
  },
  {
   "cell_type": "code",
   "execution_count": 116,
   "metadata": {},
   "outputs": [],
   "source": [
    "s1 = getPseudoRandomSequence(x0=1001, k=8192, m= 67101323)\n",
    "s2 = getPseudoRandomSequence(x0=1001, k=8192, m= 67099547)\n",
    "s3 = getPseudoRandomSequence(x0=1001, k=32768, m= 16775723)\n",
    "s4 = getPseudoRandomSequence(x0=1001, k=54751, m= 99707)\n",
    "s5 = getPseudoRandomSequence(x0=1001, k=8, m= 67100963)\n",
    "s6 = getPseudoRandomSequence(x0=1001, k=32, m= 7999787)\n",
    "s7 = getPythonRandom()\n",
    "s8 = getOsRandom()\n",
    "size = [4000,10000,15000,20000,25000,30000,35000,40000]\n",
    "size.extend(size)\n",
    "size.extend(size)\n",
    "size.sort()"
   ]
  },
  {
   "cell_type": "code",
   "execution_count": 117,
   "metadata": {},
   "outputs": [],
   "source": [
    "import plotly\n",
    "\n",
    "def getCoordsForGraph(sequence, size):\n",
    "#     sequence = list(itertools.islice(sequence, max(size)))\n",
    "#     data = {\n",
    "#         'up': [getStatisticV(getIncreasingRunLenghtCounts(sequence[:n]), n) for n in size],\n",
    "#         'down': [getStatisticV(getDecreasingRunLenghtCounts(sequence[:n]), n) for n in size],\n",
    "#     }\n",
    "#     print(data)\n",
    "    graphs = {}\n",
    "    graphs['sequence'] = plotly.graph_objs.Scatter(\n",
    "        x = list(range(1, max(size)+1)), \n",
    "        y = list(itertools.islice(sequence, max(size))),\n",
    "        mode = 'markers',\n",
    "        marker = dict(size=1, line=dict(width=0), color='blue'),\n",
    "        name = 'sequence'\n",
    "    )\n",
    "    graphs['up'] = plotly.graph_objs.Scatter(\n",
    "        x = size, \n",
    "        y = [getStatisticV(getIncreasingRunLenghtCounts(itertools.islice(sequence, n)), n) for n in size],\n",
    "        mode = 'markers',\n",
    "        marker = dict(size=8, line=dict(width=1), color='red'),\n",
    "        name = 'runs up'\n",
    "    )\n",
    "    graphs['down'] = plotly.graph_objs.Scatter(\n",
    "        x = size, \n",
    "        y = [getStatisticV(getDecreasingRunLenghtCounts(itertools.islice(sequence, n)), n) for n in size],\n",
    "        mode = 'markers',\n",
    "        marker = dict(size=8, line=dict(width=1), color='blue'),\n",
    "        name = 'runs down'\n",
    "    )\n",
    "    return graphs\n",
    "\n",
    "def plotRunTest(sequence, size, name, plot_sequence=False): \n",
    "    plot = getCoordsForGraph(sequence, size)\n",
    "    layout = plotly.graph_objs.Layout(\n",
    "        title=name,\n",
    "        xaxis = dict(\n",
    "            title='Size of sequence'\n",
    "        ),\n",
    "        yaxis = dict(\n",
    "            title='Statistic V'\n",
    "        ),\n",
    "        shapes = [\n",
    "            { # horizontal line for .90\n",
    "                'type': 'line',\n",
    "                'x0': 0,\n",
    "                'y0': 10.645,\n",
    "                'x1': 45000,\n",
    "                'y1': 10.645,\n",
    "                'line': {\n",
    "                    'color': 'orange',\n",
    "                    'width': 3,\n",
    "                    'dash': 'longdash'\n",
    "                }\n",
    "            },\n",
    "            { # horizontal line for .95\n",
    "                'type': 'line',\n",
    "                'x0': 0,\n",
    "                'y0': 12.59,\n",
    "                'x1': 45000,\n",
    "                'y1': 12.59,\n",
    "                'line': {\n",
    "                    'color': 'darkred',\n",
    "                    'width': 3,\n",
    "                    'dash': 'dash'\n",
    "                }\n",
    "            }\n",
    "        ]\n",
    "    )\n",
    "    \n",
    "    if plot_sequence:\n",
    "        plotly.plotly.plot(plotly.graph_objs.Figure(\n",
    "                data = [plot['sequence']],\n",
    "                layout = dict(\n",
    "                    title = name\n",
    "                )\n",
    "            ),\n",
    "            filename = 'sequence',\n",
    "            auto_open = True\n",
    "        )\n",
    "                           \n",
    "    plotly.plotly.plot(plotly.graph_objs.Figure(\n",
    "            data = [plot['up'], plot['down']], \n",
    "            layout = layout\n",
    "        ),\n",
    "        filename = name, \n",
    "        auto_open = True\n",
    "    )"
   ]
  },
  {
   "cell_type": "code",
   "execution_count": 99,
   "metadata": {},
   "outputs": [
    {
     "name": "stdout",
     "output_type": "stream",
     "text": [
      "The draw time for this plot will be slow for clients without much RAM.\n"
     ]
    }
   ],
   "source": [
    "plotRunTest(s1, size, 'Sequence1', True)"
   ]
  },
  {
   "cell_type": "code",
   "execution_count": 100,
   "metadata": {},
   "outputs": [
    {
     "name": "stdout",
     "output_type": "stream",
     "text": [
      "The draw time for this plot will be slow for clients without much RAM.\n"
     ]
    }
   ],
   "source": [
    "plotRunTest(s2, size, 'Sequence2', True)"
   ]
  },
  {
   "cell_type": "code",
   "execution_count": 101,
   "metadata": {},
   "outputs": [
    {
     "name": "stdout",
     "output_type": "stream",
     "text": [
      "The draw time for this plot will be slow for clients without much RAM.\n"
     ]
    }
   ],
   "source": [
    "plotRunTest(s3, size, 'Sequence3', True)"
   ]
  },
  {
   "cell_type": "code",
   "execution_count": 102,
   "metadata": {},
   "outputs": [
    {
     "name": "stdout",
     "output_type": "stream",
     "text": [
      "The draw time for this plot will be slow for clients without much RAM.\n"
     ]
    }
   ],
   "source": [
    "plotRunTest(s4, size, 'Sequence4', True)"
   ]
  },
  {
   "cell_type": "code",
   "execution_count": 103,
   "metadata": {},
   "outputs": [
    {
     "name": "stdout",
     "output_type": "stream",
     "text": [
      "The draw time for this plot will be slow for clients without much RAM.\n"
     ]
    }
   ],
   "source": [
    "plotRunTest(s5, size, 'Sequence5', True)"
   ]
  },
  {
   "cell_type": "code",
   "execution_count": 118,
   "metadata": {},
   "outputs": [
    {
     "name": "stdout",
     "output_type": "stream",
     "text": [
      "The draw time for this plot will be slow for clients without much RAM.\n"
     ]
    }
   ],
   "source": [
    "plotRunTest(s6, size, 'Sequence6', True)"
   ]
  },
  {
   "cell_type": "code",
   "execution_count": 119,
   "metadata": {},
   "outputs": [
    {
     "name": "stdout",
     "output_type": "stream",
     "text": [
      "The draw time for this plot will be slow for clients without much RAM.\n"
     ]
    }
   ],
   "source": [
    "plotRunTest(s7, size, 'Python Random', True)"
   ]
  },
  {
   "cell_type": "code",
   "execution_count": 120,
   "metadata": {},
   "outputs": [
    {
     "name": "stdout",
     "output_type": "stream",
     "text": [
      "The draw time for this plot will be slow for clients without much RAM.\n"
     ]
    }
   ],
   "source": [
    "plotRunTest(s8, size, 'OS Random', True)"
   ]
  }
 ],
 "metadata": {
  "kernelspec": {
   "display_name": "Python 3",
   "language": "python",
   "name": "python3"
  },
  "language_info": {
   "codemirror_mode": {
    "name": "ipython",
    "version": 3
   },
   "file_extension": ".py",
   "mimetype": "text/x-python",
   "name": "python",
   "nbconvert_exporter": "python",
   "pygments_lexer": "ipython3",
   "version": "3.7.1"
  }
 },
 "nbformat": 4,
 "nbformat_minor": 2
}
