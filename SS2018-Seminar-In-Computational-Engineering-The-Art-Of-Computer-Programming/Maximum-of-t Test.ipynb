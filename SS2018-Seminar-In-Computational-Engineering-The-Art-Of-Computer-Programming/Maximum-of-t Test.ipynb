{
 "cells": [
  {
   "cell_type": "markdown",
   "metadata": {},
   "source": [
    "The basic idea is that we split the sequence into groups of equal length, and in each group find the maximum. This resulting list can be run trough the Kolmogorov-Smirnov Test with the distribution function `F(x)`\n",
    "\n",
    "    F(x) = x**t, 0<=x<=1\n",
    "    \n",
    "The test is failed if the p-value is less than 0.001 or larger than 0.999"
   ]
  },
  {
   "cell_type": "code",
   "execution_count": 36,
   "metadata": {},
   "outputs": [],
   "source": [
    "import itertools\n",
    "from collections import Counter\n",
    "import random\n",
    "from scipy.stats import kstest\n",
    "import numpy\n",
    "import plotly\n",
    "\n",
    "def getPseudoRandomSequence(x0, k, m):\n",
    "    last = x0\n",
    "    while True:\n",
    "        last = k * last % m\n",
    "        yield last/m\n",
    "def getFinitePseudorandomSequence(x0, k, m, n):\n",
    "    return itertools.islice(getPseudoRandomSequence(x0, k, m),n)\n",
    "\n",
    "def getPythonRandom():\n",
    "    while True:\n",
    "        yield random.random()\n",
    "    \n",
    "def getOsRandom():\n",
    "    os_random = random.SystemRandom()\n",
    "    while True:\n",
    "        yield os_random.random()\n",
    "        \n",
    "def getMaxTforSequences(sequence, chunk_size, size):\n",
    "    return [max(itertools.islice(sequence, i, i + chunk_size)) for i in range(0, size, chunk_size)]\n",
    "        \n",
    "def distributionFunction(x, chunk_size):\n",
    "    return x**chunk_size\n",
    "        \n",
    "def getCoordsForGraph(sequence, chunk_size, sizes):\n",
    "    return plotly.graph_objs.Scatter(\n",
    "        x = sizes, \n",
    "        y = [kstest(getMaxTforSequences(sequence, chunk_size, n), lambda x: distributionFunction(x, chunk_size)).pvalue for n in sizes],\n",
    "        mode = 'markers',\n",
    "        marker = dict(size=8, line=dict(width=1), color='red'),\n",
    "        name = 't: ' + str(chunk_size)\n",
    "    )\n",
    "\n",
    "def plotRunTest(sequence, chunk_size, size, name): \n",
    "    plot = getCoordsForGraph(sequence, chunk_size, size)\n",
    "    layout = plotly.graph_objs.Layout(\n",
    "        title=name,\n",
    "        xaxis = dict(\n",
    "            title='Size of sequence'\n",
    "        ),\n",
    "        yaxis = dict(\n",
    "            title='KS Test P-value'\n",
    "        )\n",
    "    )\n",
    "    \n",
    "    plotly.plotly.plot(plotly.graph_objs.Figure(\n",
    "            data = [plot], \n",
    "            layout = layout\n",
    "        ),\n",
    "        filename = name, \n",
    "        auto_open = True\n",
    "    )\n"
   ]
  },
  {
   "cell_type": "code",
   "execution_count": 26,
   "metadata": {},
   "outputs": [],
   "source": [
    "s1 = getPseudoRandomSequence(x0=1001, k=8192, m= 67101323)\n",
    "s2 = getPseudoRandomSequence(x0=1001, k=8192, m= 67099547)\n",
    "s3 = getPseudoRandomSequence(x0=1001, k=32768, m= 16775723)\n",
    "s4 = getPseudoRandomSequence(x0=1001, k=54751, m= 99707)\n",
    "s5 = getPseudoRandomSequence(x0=1001, k=8, m= 67100963)\n",
    "s6 = getPseudoRandomSequence(x0=1001, k=32, m= 7999787)\n",
    "s7 = getPythonRandom()\n",
    "s8 = getOsRandom()\n",
    "size = [4000,10000,15000,20000,25000,30000,35000,40000]\n",
    "size.extend(size)\n",
    "size.extend(size)\n",
    "size.sort()"
   ]
  },
  {
   "cell_type": "code",
   "execution_count": 22,
   "metadata": {},
   "outputs": [
    {
     "data": {
      "text/plain": [
       "0.96967532293521"
      ]
     },
     "execution_count": 22,
     "metadata": {},
     "output_type": "execute_result"
    }
   ],
   "source": [
    "x0 = 1001\n",
    "k = 8192\n",
    "m = 67101323\n",
    "n = 10000\n",
    "sequence = list(getFinitePseudorandomSequence(x0, k, m, n))\n",
    "chunk_size = 10\n",
    "\n",
    "\n",
    "\n",
    "kstest(sequence_of_max, distributionFunction).pvalue"
   ]
  },
  {
   "cell_type": "code",
   "execution_count": 37,
   "metadata": {},
   "outputs": [],
   "source": [
    "plotRunTest(s7, 1000, size, 'Python Random')"
   ]
  }
 ],
 "metadata": {
  "kernelspec": {
   "display_name": "Python 3",
   "language": "python",
   "name": "python3"
  },
  "language_info": {
   "codemirror_mode": {
    "name": "ipython",
    "version": 3
   },
   "file_extension": ".py",
   "mimetype": "text/x-python",
   "name": "python",
   "nbconvert_exporter": "python",
   "pygments_lexer": "ipython3",
   "version": "3.7.1"
  }
 },
 "nbformat": 4,
 "nbformat_minor": 2
}
